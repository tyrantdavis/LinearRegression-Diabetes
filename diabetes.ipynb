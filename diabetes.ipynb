{
 "cells": [
  {
   "cell_type": "markdown",
   "id": "d0ae95ac-1b29-46b7-bdae-5850b7c08d7a",
   "metadata": {},
   "source": [
    "# Linear Regression : Predicting Diabetes Progression\n",
    "\n",
    "---"
   ]
  },
  {
   "cell_type": "markdown",
   "id": "4cdee88d-450a-43e2-9df4-7f259010b084",
   "metadata": {},
   "source": [
    "## Import software libraries "
   ]
  },
  {
   "cell_type": "code",
   "execution_count": 9,
   "id": "837ec8fd-d1fb-4df9-810d-50feed3f4393",
   "metadata": {},
   "outputs": [
    {
     "name": "stdout",
     "output_type": "stream",
     "text": [
      "Libraries used in this project:\n",
      "- Python 3.8.18 | packaged by conda-forge | (default, Dec 23 2023, 17:23:49) \n",
      "[Clang 15.0.7 ]\n",
      "- NumPy 1.24.3\n",
      "- pandas 2.0.3\n",
      "- Matplotlib 3.7.2\n",
      "- Seaborn 0.13.2\n",
      "- scikit-learn 1.3.2\n",
      "\n"
     ]
    }
   ],
   "source": [
    "import sys  # Read system parameters.\n",
    "\n",
    "import matplotlib as mpl  # Create 2D charts.\n",
    "import matplotlib.cm as cm  # Builtin colormaps, colormap handling utilities,\n",
    "import matplotlib.pyplot as plt  # Plotting\n",
    "import numpy as np  # Work with multi-dimensional arrays and matrices.\n",
    "import pandas as pd  # Manipulate and analyze data.\n",
    "import seaborn as sb  # Perform data visualization.\n",
    "import sklearn  # Perform data mining and analysis.\n",
    "from sklearn import (\n",
    "    datasets,  # Utilities to load popular datasets and artificial data generators.\n",
    ")\n",
    "\n",
    "# Summarize software libraries used.\n",
    "print(\"Libraries used in this project:\")\n",
    "print(\"- Python {}\".format(sys.version))\n",
    "print(\"- NumPy {}\".format(np.__version__))\n",
    "print(\"- pandas {}\".format(pd.__version__))\n",
    "print(\"- Matplotlib {}\".format(mpl.__version__))\n",
    "print(\"- Seaborn {}\".format(sb.__version__))\n",
    "print(\"- scikit-learn {}\\n\".format(sklearn.__version__))"
   ]
  },
  {
   "cell_type": "markdown",
   "id": "2e635623-e07d-4861-9c47-b35d2ad2a30f",
   "metadata": {},
   "source": [
    "## Load Dataset"
   ]
  },
  {
   "cell_type": "code",
   "execution_count": 10,
   "id": "a56a662c-efed-464f-b162-22582b6f3632",
   "metadata": {},
   "outputs": [
    {
     "name": "stdout",
     "output_type": "stream",
     "text": [
      "Loaded 442 records.\n"
     ]
    }
   ],
   "source": [
    "# Load the dataset.\n",
    "diabetes = datasets.load_diabetes()\n",
    "print(\"Loaded {} records.\".format(len(diabetes.data)))"
   ]
  },
  {
   "cell_type": "markdown",
   "id": "5e92dedb-82dd-4f3b-80af-8ec31b7d155c",
   "metadata": {},
   "source": [
    "## Convert Dataset to DataFrame"
   ]
  },
  {
   "cell_type": "code",
   "execution_count": 11,
   "id": "01e7b7a1-1073-432d-a678-06e66806dff1",
   "metadata": {},
   "outputs": [],
   "source": [
    "# Convert array to pandas DataFrame.\n",
    "diabetes_df = pd.DataFrame(diabetes.data, columns=diabetes.feature_names)"
   ]
  },
  {
   "cell_type": "markdown",
   "id": "b90cc712-164c-4aeb-b04d-ddd260a11df4",
   "metadata": {},
   "source": [
    "## Get Acquainted with the Dataset"
   ]
  },
  {
   "cell_type": "code",
   "execution_count": 12,
   "id": "52d293cb-47be-4545-a4a6-0b5d2cedd38f",
   "metadata": {},
   "outputs": [
    {
     "name": "stdout",
     "output_type": "stream",
     "text": [
      "Data types and missing values:\n",
      "\n",
      "<class 'pandas.core.frame.DataFrame'>\n",
      "RangeIndex: 442 entries, 0 to 441\n",
      "Data columns (total 10 columns):\n",
      " #   Column  Non-Null Count  Dtype  \n",
      "---  ------  --------------  -----  \n",
      " 0   age     442 non-null    float64\n",
      " 1   sex     442 non-null    float64\n",
      " 2   bmi     442 non-null    float64\n",
      " 3   bp      442 non-null    float64\n",
      " 4   s1      442 non-null    float64\n",
      " 5   s2      442 non-null    float64\n",
      " 6   s3      442 non-null    float64\n",
      " 7   s4      442 non-null    float64\n",
      " 8   s5      442 non-null    float64\n",
      " 9   s6      442 non-null    float64\n",
      "dtypes: float64(10)\n",
      "memory usage: 34.7 KB\n",
      "None\n"
     ]
    }
   ],
   "source": [
    "# View data types and see if there are missing entries.\n",
    "print(\"Data types and missing values:\\n\")\n",
    "print(diabetes_df.info())"
   ]
  },
  {
   "cell_type": "markdown",
   "id": "fbd6e013-1e15-4af2-a941-2f86eb82dfa8",
   "metadata": {},
   "source": [
    "### Add 'target' column "
   ]
  },
  {
   "cell_type": "code",
   "execution_count": null,
   "id": "e2f5f323-41f2-4b49-aa5e-a7e466f843ea",
   "metadata": {},
   "outputs": [],
   "source": [
    "diabetes_df[\"target\"] = diabetes.target"
   ]
  },
  {
   "cell_type": "markdown",
   "id": "4f3d32a4-7f90-4809-847d-5022d91c0364",
   "metadata": {},
   "source": [
    "### Review data to confirm 'target' added"
   ]
  },
  {
   "cell_type": "code",
   "execution_count": 14,
   "id": "49a595b6-af16-489d-ad47-99734629e4f9",
   "metadata": {},
   "outputs": [
    {
     "name": "stdout",
     "output_type": "stream",
     "text": [
      "<class 'pandas.core.frame.DataFrame'>\n",
      "RangeIndex: 442 entries, 0 to 441\n",
      "Data columns (total 11 columns):\n",
      " #   Column  Non-Null Count  Dtype  \n",
      "---  ------  --------------  -----  \n",
      " 0   age     442 non-null    float64\n",
      " 1   sex     442 non-null    float64\n",
      " 2   bmi     442 non-null    float64\n",
      " 3   bp      442 non-null    float64\n",
      " 4   s1      442 non-null    float64\n",
      " 5   s2      442 non-null    float64\n",
      " 6   s3      442 non-null    float64\n",
      " 7   s4      442 non-null    float64\n",
      " 8   s5      442 non-null    float64\n",
      " 9   s6      442 non-null    float64\n",
      " 10  target  442 non-null    float64\n",
      "dtypes: float64(11)\n",
      "memory usage: 38.1 KB\n",
      "None\n"
     ]
    }
   ],
   "source": [
    "print(diabetes_df.info())"
   ]
  },
  {
   "cell_type": "markdown",
   "id": "7028c473-12a9-4eb4-93d8-bff87cb9cf3f",
   "metadata": {},
   "source": []
  }
 ],
 "metadata": {
  "kernelspec": {
   "display_name": "Python 3 (ipykernel)",
   "language": "python",
   "name": "python3"
  },
  "language_info": {
   "codemirror_mode": {
    "name": "ipython",
    "version": 3
   },
   "file_extension": ".py",
   "mimetype": "text/x-python",
   "name": "python",
   "nbconvert_exporter": "python",
   "pygments_lexer": "ipython3",
   "version": "3.8.18"
  }
 },
 "nbformat": 4,
 "nbformat_minor": 5
}
